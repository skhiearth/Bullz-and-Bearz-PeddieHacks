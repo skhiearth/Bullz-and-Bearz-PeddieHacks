{
 "cells": [
  {
   "cell_type": "code",
   "execution_count": 16,
   "metadata": {},
   "outputs": [],
   "source": [
    "import pandas as pd\n",
    "import numpy as np\n",
    "import requests"
   ]
  },
  {
   "cell_type": "code",
   "execution_count": 17,
   "metadata": {},
   "outputs": [],
   "source": [
    "fmckey = \"bb15008e346bee9fcbf53abc583edac0\"\n",
    "\n",
    "df = pd.DataFrame(columns = ['Symbol', 'Exchange', 'grossProfitRatioQMinus1', 'grossProfitRatioQMinus2',\n",
    "                            'epsdilutedQMinus1', 'epsdilutedQMinus2', 'priceEarningsToGrowthRatioTTM',\n",
    "                            'priceCashFlowRatioTTM', 'priceEarningsRatioTTM', 'priceBookValueRatioTTM',\n",
    "                            'assetTurnoverTTM', 'dividendYieldPercentageTTM']) \n",
    "\n",
    "tickers = pd.DataFrame(columns=['Symbol', 'Exchange', 'Price'])"
   ]
  },
  {
   "cell_type": "code",
   "execution_count": 18,
   "metadata": {},
   "outputs": [],
   "source": [
    "url = \"https://financialmodelingprep.com/api/v3/stock/list?apikey=\"+fmckey\n",
    "_temp = requests.get(url).json()\n",
    "\n",
    "symbols = []\n",
    "exchanges = []\n",
    "prices = []\n",
    "\n",
    "for element in _temp:\n",
    "    if \"exchange\" in element:\n",
    "        symbols.append(element['symbol'])\n",
    "        exchanges.append(element['exchange'])\n",
    "        prices.append(element['price'])\n",
    "\n",
    "tickers['Symbol'] = symbols\n",
    "tickers['Exchange'] = exchanges\n",
    "tickers['Price'] = prices\n",
    "\n",
    "tickers = tickers.sort_values(by='Price', ascending=False)\n",
    "\n",
    "# North America\n",
    "NasdaqGM = tickers[(tickers['Exchange']==\"NasdaqGM\") | (tickers['Exchange']==\"NASDAQ Global Market\")].head(120)\n",
    "Nasdaq = tickers[tickers['Exchange']==\"Nasdaq\"].head(120)\n",
    "NYSEAmerican = tickers[tickers['Exchange']==\"NYSE American\"].head(120)\n",
    "NYSE = tickers[(tickers['Exchange']==\"NYSE\") | (tickers['Exchange']==\"New York Stock Exchange\")].head(120)\n",
    "NYSEArca = tickers[(tickers['Exchange']==\"NYSEArca\") | (tickers['Exchange']==\"NYSE Arca\")].head(120)\n",
    "NasdaqGS = tickers[(tickers['Exchange']==\"NasdaqGS\") | (tickers['Exchange']==\"Nasdaq Global Select\")].head(120)\n",
    "NasdaqCM = tickers[(tickers['Exchange']==\"NasdaqCM\") | (tickers['Exchange']==\"NASDAQ Capital Market\")].head(120)\n",
    "BATS = tickers[(tickers['Exchange']==\"BATS Exchange\") | (tickers['Exchange']==\"BATS\")].head(120)\n",
    "Toronto = tickers[tickers['Exchange']==\"Toronto\"].head(120)\n",
    "\n",
    "# Europe\n",
    "Amsterdam = tickers[tickers['Exchange']==\"Amsterdam\"].head(120) # Done\n",
    "XETRA = tickers[tickers['Exchange']==\"XETRA\"].head(120) # Done\n",
    "Swiss = tickers[tickers['Exchange']==\"Swiss\"].head(120)\n",
    "Paris = tickers[tickers['Exchange']==\"Paris\"].head(120)\n",
    "Lisbon = tickers[tickers['Exchange']==\"Lisbon\"] # Done\n",
    "LSE = tickers[tickers['Exchange']==\"LSE\"].head(120)\n",
    "Brussels = tickers[tickers['Exchange']==\"Brussels\"] # Done\n",
    "\n",
    "# Asia-Pacific\n",
    "ASX = tickers[tickers['Exchange']==\"ASX\"].head(120)\n",
    "NSE = tickers[tickers['Exchange']==\"NSE\"].head(120)\n",
    "MCX = tickers[tickers['Exchange']==\"MCX\"].head(120)\n",
    "HKSE = tickers[tickers['Exchange']==\"HKSE\"].head(120)\n",
    "OSE = tickers[tickers['Exchange']==\"OSE\"] # Done"
   ]
  },
  {
   "cell_type": "code",
   "execution_count": 24,
   "metadata": {},
   "outputs": [],
   "source": [
    "import csv\n",
    "\n",
    "with open('allSymbols.csv', 'w') as myfile:\n",
    "    wr = csv.writer(myfile, quoting=csv.QUOTE_ALL, delimiter='\\n')\n",
    "    wr.writerow(symbols)"
   ]
  },
  {
   "cell_type": "code",
   "execution_count": 4,
   "metadata": {},
   "outputs": [
    {
     "ename": "KeyError",
     "evalue": "0",
     "output_type": "error",
     "traceback": [
      "\u001b[0;31m---------------------------------------------------------------------------\u001b[0m",
      "\u001b[0;31mKeyError\u001b[0m                                  Traceback (most recent call last)",
      "\u001b[0;32m<ipython-input-4-2810dd67e150>\u001b[0m in \u001b[0;36m<module>\u001b[0;34m\u001b[0m\n\u001b[1;32m     14\u001b[0m     \u001b[0;32mif\u001b[0m\u001b[0;34m(\u001b[0m\u001b[0m_temp\u001b[0m\u001b[0;34m)\u001b[0m\u001b[0;34m:\u001b[0m\u001b[0;34m\u001b[0m\u001b[0;34m\u001b[0m\u001b[0m\n\u001b[1;32m     15\u001b[0m         \u001b[0;32mif\u001b[0m\u001b[0;34m(\u001b[0m\u001b[0m_tempttm\u001b[0m\u001b[0;34m)\u001b[0m\u001b[0;34m:\u001b[0m\u001b[0;34m\u001b[0m\u001b[0;34m\u001b[0m\u001b[0m\n\u001b[0;32m---> 16\u001b[0;31m             listToAppend = [_temp[0]['symbol'], \"HKSE\", _temp[0]['grossProfitRatio'], \n\u001b[0m\u001b[1;32m     17\u001b[0m                             \u001b[0m_temp\u001b[0m\u001b[0;34m[\u001b[0m\u001b[0;36m1\u001b[0m\u001b[0;34m]\u001b[0m\u001b[0;34m[\u001b[0m\u001b[0;34m'grossProfitRatio'\u001b[0m\u001b[0;34m]\u001b[0m\u001b[0;34m,\u001b[0m \u001b[0m_temp\u001b[0m\u001b[0;34m[\u001b[0m\u001b[0;36m0\u001b[0m\u001b[0;34m]\u001b[0m\u001b[0;34m[\u001b[0m\u001b[0;34m'epsdiluted'\u001b[0m\u001b[0;34m]\u001b[0m\u001b[0;34m,\u001b[0m\u001b[0;34m\u001b[0m\u001b[0;34m\u001b[0m\u001b[0m\n\u001b[1;32m     18\u001b[0m                            \u001b[0m_temp\u001b[0m\u001b[0;34m[\u001b[0m\u001b[0;36m1\u001b[0m\u001b[0;34m]\u001b[0m\u001b[0;34m[\u001b[0m\u001b[0;34m'epsdiluted'\u001b[0m\u001b[0;34m]\u001b[0m\u001b[0;34m,\u001b[0m \u001b[0m_tempttm\u001b[0m\u001b[0;34m[\u001b[0m\u001b[0;36m0\u001b[0m\u001b[0;34m]\u001b[0m\u001b[0;34m[\u001b[0m\u001b[0;34m'priceEarningsToGrowthRatioTTM'\u001b[0m\u001b[0;34m]\u001b[0m\u001b[0;34m,\u001b[0m\u001b[0;34m\u001b[0m\u001b[0;34m\u001b[0m\u001b[0m\n",
      "\u001b[0;31mKeyError\u001b[0m: 0"
     ]
    }
   ],
   "source": [
    "count = 0\n",
    "\n",
    "for symb in Toronto['Symbol']:\n",
    "    count = count+1\n",
    "    if(count%20 == 0):\n",
    "        print(count)\n",
    "        \n",
    "    incomeStatementUrl = \"https://financialmodelingprep.com/api/v3/income-statement/\"+symb+\"?period=quarter&limit=400&apikey=\"+fmckey\n",
    "    ttmUrrl = \"https://financialmodelingprep.com/api/v3/ratios-ttm/\"+symb+\"?apikey=\"+fmckey\n",
    "\n",
    "    _temp = requests.get(incomeStatementUrl).json()\n",
    "    _tempttm = requests.get(ttmUrrl).json()\n",
    "\n",
    "    if(_temp):\n",
    "        if(_tempttm):\n",
    "            listToAppend = [_temp[0]['symbol'], \"Toronto\", _temp[0]['grossProfitRatio'], \n",
    "                            _temp[1]['grossProfitRatio'], _temp[0]['epsdiluted'],\n",
    "                           _temp[1]['epsdiluted'], _tempttm[0]['priceEarningsToGrowthRatioTTM'],\n",
    "                           _tempttm[0]['priceCashFlowRatioTTM'], _tempttm[0]['priceEarningsRatioTTM'],\n",
    "                           _tempttm[0]['priceBookValueRatioTTM'], _tempttm[0]['assetTurnoverTTM'],\n",
    "                           _tempttm[0]['dividendYielPercentageTTM']]\n",
    "\n",
    "            df_length = len(df)\n",
    "            df.loc[df_length] = listToAppend\n",
    "            \n",
    "df.to_csv('Datasets/America/Toronto.csv')"
   ]
  }
 ],
 "metadata": {
  "kernelspec": {
   "display_name": "Python 3",
   "language": "python",
   "name": "python3"
  },
  "language_info": {
   "codemirror_mode": {
    "name": "ipython",
    "version": 3
   },
   "file_extension": ".py",
   "mimetype": "text/x-python",
   "name": "python",
   "nbconvert_exporter": "python",
   "pygments_lexer": "ipython3",
   "version": "3.8.3"
  }
 },
 "nbformat": 4,
 "nbformat_minor": 4
}

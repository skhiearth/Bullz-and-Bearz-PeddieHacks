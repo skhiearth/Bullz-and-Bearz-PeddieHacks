{
 "cells": [
  {
   "cell_type": "code",
   "execution_count": 50,
   "metadata": {},
   "outputs": [],
   "source": [
    "# Importing the libraries\n",
    "import numpy as np\n",
    "import matplotlib.pyplot as plt\n",
    "import pandas as pd\n",
    "from sklearn.decomposition import PCA \n",
    "from sklearn.metrics import silhouette_score\n",
    "from sklearn.cluster import KMeans\n",
    "from sklearn.preprocessing import StandardScaler\n",
    "from sklearn.preprocessing import normalize "
   ]
  },
  {
   "cell_type": "code",
   "execution_count": 53,
   "metadata": {},
   "outputs": [
    {
     "name": "stdout",
     "output_type": "stream",
     "text": [
      "Silhouette Score(n=2): 0.8689826669433184\n",
      "Silhouette Score(n=3): 0.5955245676558303\n",
      "Silhouette Score(n=4): 0.5891575449182295\n",
      "Silhouette Score(n=5): 0.5586052777984322\n",
      "Silhouette Score(n=6): 0.5803142162459022\n",
      "Silhouette Score(n=7): 0.5932647372360732\n",
      "Silhouette Score(n=8): 0.5880388576047721\n",
      "Silhouette Score(n=9): 0.5527028866945493\n",
      "Silhouette Score(n=10): 0.5362830115033502\n",
      "Silhouette Score(n=11): 0.5454445590127143\n",
      "Silhouette Score(n=12): 0.528018666128694\n"
     ]
    }
   ],
   "source": [
    "# Importing the dataset\n",
    "dataset = pd.read_csv('Data/Datasets/Europe/LSE.csv')\n",
    "dataset = dataset.drop(['Unnamed: 0', 'Exchange'], axis = 1) \n",
    "dataset = dataset.dropna()\n",
    "X = dataset.iloc[:,1:]\n",
    "\n",
    "# Preprocessing\n",
    "scaler = StandardScaler()\n",
    "X = scaler.fit_transform(X)\n",
    "\n",
    "# X = normalize(X) \n",
    "\n",
    "pca = PCA(n_components = 1) \n",
    "X_principal = pca.fit_transform(X) \n",
    "X_principal = pd.DataFrame(X_principal) \n",
    "\n",
    "X = X_principal.values\n",
    "\n",
    "# Fitting K-Means to the dataset\n",
    "for n in range(2,13,1):\n",
    "    kmeans = KMeans(n_clusters = n, init = 'k-means++', random_state = 42)\n",
    "    y_kmeans = kmeans.fit_predict(X)\n",
    "\n",
    "    print('Silhouette Score(n={}): {}'.format(n, silhouette_score(X, y_kmeans)))"
   ]
  },
  {
   "cell_type": "code",
   "execution_count": 54,
   "metadata": {},
   "outputs": [],
   "source": [
    "kmeans = KMeans(n_clusters = 2, init = 'k-means++', random_state = 42)\n",
    "y_kmeans = kmeans.fit_predict(X)\n",
    "\n",
    "dataset['Cluster'] = y_kmeans\n",
    "dataset.head(3)\n",
    "\n",
    "dataset.to_csv('Data/Clustered/Europe/LSE.csv') "
   ]
  }
 ],
 "metadata": {
  "kernelspec": {
   "display_name": "Python 3",
   "language": "python",
   "name": "python3"
  },
  "language_info": {
   "codemirror_mode": {
    "name": "ipython",
    "version": 3
   },
   "file_extension": ".py",
   "mimetype": "text/x-python",
   "name": "python",
   "nbconvert_exporter": "python",
   "pygments_lexer": "ipython3",
   "version": "3.8.3"
  }
 },
 "nbformat": 4,
 "nbformat_minor": 4
}
